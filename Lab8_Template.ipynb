{
  "cells": [
    {
      "cell_type": "markdown",
      "metadata": {
        "id": "view-in-github",
        "colab_type": "text"
      },
      "source": [
        "<a href=\"https://colab.research.google.com/github/zhouziyuanjudy/PHYS417SP25/blob/main/Lab8_Template.ipynb\" target=\"_parent\"><img src=\"https://colab.research.google.com/assets/colab-badge.svg\" alt=\"Open In Colab\"/></a>"
      ]
    },
    {
      "cell_type": "markdown",
      "id": "c76bd7e6",
      "metadata": {
        "id": "c76bd7e6"
      },
      "source": [
        "# Lab 8 Report:\n",
        "## FINAL PROJECT STRATEGIC PLANNING"
      ]
    },
    {
      "cell_type": "markdown",
      "id": "3f5ed902",
      "metadata": {
        "id": "3f5ed902"
      },
      "source": [
        "### Lab 8 Instruction:\n",
        "https://canvas.uw.edu/files/106242897/download?download_frd=1"
      ]
    },
    {
      "cell_type": "markdown",
      "id": "0098c149",
      "metadata": {
        "id": "0098c149"
      },
      "source": [
        "### Team Members: Catherine Welch, Ziyuan Zhou"
      ]
    },
    {
      "cell_type": "markdown",
      "id": "36869478",
      "metadata": {
        "id": "36869478"
      },
      "source": [
        "### Dataset for your project:\n",
        "https://www.kaggle.com/competitions/galaxy-zoo-the-galaxy-challenge/\n"
      ]
    },
    {
      "cell_type": "markdown",
      "source": [
        "The classification and description of galaxies was previously accomplished by large-scale citizen science projects such as Galaxy Zoo. The Galaxy Zoo Challenge was a public contest in which people trained models to classify galaxies as closely to humans as possible. We will approach the same task with a convolutional neural network, leveraging its ability to pick out patterns in the image data to map features in image space to classifications made by humans."
      ],
      "metadata": {
        "id": "Si0R6jN-23eZ"
      },
      "id": "Si0R6jN-23eZ"
    },
    {
      "cell_type": "markdown",
      "id": "7b08ff02",
      "metadata": {
        "id": "7b08ff02"
      },
      "source": [
        "#### dataset load\n"
      ]
    },
    {
      "cell_type": "code",
      "source": [
        "from PIL import Image\n",
        "import os\n",
        "\n",
        "image_folder = '/content/galaxy-data/'  # Update path if needed\n",
        "broken_images = []\n",
        "\n",
        "for filename in os.listdir(image_folder):\n",
        "    if not filename.endswith('.jpg'):  # skip non-image files\n",
        "        continue\n",
        "    try:\n",
        "        img = Image.open(os.path.join(image_folder, filename))\n",
        "        img.verify()  # Check for corruption\n",
        "    except Exception as e:\n",
        "        broken_images.append(filename)\n",
        "\n",
        "print(\"Number of corrupted images:\", len(broken_images))\n"
      ],
      "metadata": {
        "colab": {
          "base_uri": "https://localhost:8080/"
        },
        "id": "9m1e5UhN4WrY",
        "outputId": "7c50b216-3ec2-4c0a-a43b-23675d04996c"
      },
      "id": "9m1e5UhN4WrY",
      "execution_count": 12,
      "outputs": [
        {
          "output_type": "stream",
          "name": "stdout",
          "text": [
            "Number of corrupted images: 0\n"
          ]
        }
      ]
    },
    {
      "cell_type": "code",
      "source": [
        "import pandas as pd\n",
        "\n",
        "df = pd.read_csv('/content/galaxy-data/training_solutions_rev1.zip')\n",
        "df['max_prob'] = df.drop('GalaxyID', axis=1).max(axis=1)\n",
        "\n",
        "uncertain = df[df['max_prob'] < 0.6]\n",
        "print(\"Number of uncertain labels:\", len(uncertain))\n"
      ],
      "metadata": {
        "colab": {
          "base_uri": "https://localhost:8080/"
        },
        "id": "Dg7Qfq1g9AS4",
        "outputId": "4558cc07-febf-4428-d8a1-f2ecdca3d061"
      },
      "id": "Dg7Qfq1g9AS4",
      "execution_count": 15,
      "outputs": [
        {
          "output_type": "stream",
          "name": "stdout",
          "text": [
            "Number of uncertain labels: 1188\n"
          ]
        }
      ]
    },
    {
      "cell_type": "code",
      "source": [
        "import zipfile\n",
        "import os\n",
        "\n",
        "# List of zip files\n",
        "zip_files = [\n",
        "    '/content/galaxy-data/all_ones_benchmark.zip',\n",
        "    '/content/galaxy-data/all_zeros_benchmark.zip',\n",
        "    '/content/galaxy-data/central_pixel_benchmark.zip',\n",
        "    '/content/galaxy-data/images_test_rev1.zip',\n",
        "    '/content/galaxy-data/images_training_rev1.zip',\n",
        "    '/content/galaxy-data/training_solutions_rev1.zip'\n",
        "]\n",
        "\n",
        "# Unzip each file to its own subfolder\n",
        "for zip_path in zip_files:\n",
        "    folder_name = os.path.splitext(os.path.basename(zip_path))[0]\n",
        "    extract_to = f'/content/galaxy-data/unzipped/{folder_name}/'\n",
        "    os.makedirs(extract_to, exist_ok=True)\n",
        "\n",
        "    with zipfile.ZipFile(zip_path, 'r') as zip_ref:\n",
        "        zip_ref.extractall(extract_to)\n",
        "        print(f' Unzipped: {zip_path} → {extract_to}')\n"
      ],
      "metadata": {
        "colab": {
          "base_uri": "https://localhost:8080/"
        },
        "id": "wNX6puAc-7Qu",
        "outputId": "3c16d76f-108f-4298-f135-cbd497536e88"
      },
      "id": "wNX6puAc-7Qu",
      "execution_count": 22,
      "outputs": [
        {
          "output_type": "stream",
          "name": "stdout",
          "text": [
            " Unzipped: /content/galaxy-data/all_ones_benchmark.zip → /content/galaxy-data/unzipped/all_ones_benchmark/\n",
            " Unzipped: /content/galaxy-data/all_zeros_benchmark.zip → /content/galaxy-data/unzipped/all_zeros_benchmark/\n",
            " Unzipped: /content/galaxy-data/central_pixel_benchmark.zip → /content/galaxy-data/unzipped/central_pixel_benchmark/\n",
            " Unzipped: /content/galaxy-data/images_test_rev1.zip → /content/galaxy-data/unzipped/images_test_rev1/\n",
            " Unzipped: /content/galaxy-data/images_training_rev1.zip → /content/galaxy-data/unzipped/images_training_rev1/\n",
            " Unzipped: /content/galaxy-data/training_solutions_rev1.zip → /content/galaxy-data/unzipped/training_solutions_rev1/\n"
          ]
        }
      ]
    },
    {
      "cell_type": "markdown",
      "id": "596ea344",
      "metadata": {
        "id": "596ea344"
      },
      "source": [
        "## Understanding the Data"
      ]
    },
    {
      "cell_type": "markdown",
      "source": [
        "a. Data size and structure: How big is the data? How is it structured? Are there any obvious patterns? If so, are they expected? Any unused features? Etc"
      ],
      "metadata": {
        "id": "dTcmfR9BrwoG"
      },
      "id": "dTcmfR9BrwoG"
    },
    {
      "cell_type": "markdown",
      "source": [
        "The dataset includes 61,578 training images and 79,975 test images of galaxies in JPG format.\n",
        "\n",
        "The structure is clean,  one image = one row of 37 float values in the label file.The values are between 0 and 1, showing how likely the galaxy has a certain feature.\n",
        "\n",
        "Obvious pattern: many galaxies have strong probabilities for smooth/spiral types, which is expected based on real galaxy distributions.\n",
        "\n",
        "No unused features. Each label column corresponds to a valid Galaxy Zoo question."
      ],
      "metadata": {
        "id": "JUcacEBvr1ur"
      },
      "id": "JUcacEBvr1ur"
    },
    {
      "cell_type": "markdown",
      "source": [
        "b. Data cleanness Is some of the data corrupted? Is some data mislabeled? If it's\n",
        "simulated, does the simulator have any limitations"
      ],
      "metadata": {
        "id": "YpHKxpR24kjY"
      },
      "id": "YpHKxpR24kjY"
    },
    {
      "cell_type": "markdown",
      "source": [
        "No, none of the data is corrupted.\n",
        "\n",
        "Yes, some data might be mislabeled. I checked the label file and found that 1188 galaxies do not have a clear answer.\n",
        "\n",
        "From dataset page it said images come from the Sloan Digital Sky Survey, a real telescope. That means the data is not simulated."
      ],
      "metadata": {
        "id": "bQWyWR1A8o3t"
      },
      "id": "bQWyWR1A8o3t"
    },
    {
      "cell_type": "markdown",
      "source": [
        "c. Diversity of features: How many features (e.g., # of pixels, # of columns) are\n",
        "there per data sample? Does your dataset have approximately equal number of\n",
        "datapoints per label?"
      ],
      "metadata": {
        "id": "hF7YBw2_9960"
      },
      "id": "hF7YBw2_9960"
    },
    {
      "cell_type": "code",
      "source": [
        "from PIL import Image\n",
        "import os\n",
        "\n",
        "# Correct image path based on your folder structure\n",
        "image_path = '/content/galaxy-data/unzipped/images_training_rev1/images_training_rev1/100008.jpg'\n",
        "img = Image.open(image_path)\n",
        "\n",
        "# Get image size and features\n",
        "width, height = img.size\n",
        "channels = 3 if img.mode == 'RGB' else 1\n",
        "\n",
        "print(f\"Image size: {width}x{height}\")\n",
        "print(f\"Color mode: {img.mode}\")\n",
        "print(f\"Total features per image: {width * height * channels}\")\n"
      ],
      "metadata": {
        "colab": {
          "base_uri": "https://localhost:8080/"
        },
        "id": "bAKJyhVpC_Kq",
        "outputId": "5b74d367-8358-49ba-c9e5-92b8ea031847"
      },
      "id": "bAKJyhVpC_Kq",
      "execution_count": 27,
      "outputs": [
        {
          "output_type": "stream",
          "name": "stdout",
          "text": [
            "Image size: 424x424\n",
            "Color mode: RGB\n",
            "Total features per image: 539328\n"
          ]
        }
      ]
    },
    {
      "cell_type": "markdown",
      "source": [
        "Each galaxy image has a size of 424×424 pixels and is in RGB color, which means each image has 3 color channels. So the total number of features per image is:\n",
        "3 × 424 × 424 = 539328 features. Not balance."
      ],
      "metadata": {
        "id": "rF_WqvEHDJtW"
      },
      "id": "rF_WqvEHDJtW"
    },
    {
      "cell_type": "code",
      "source": [
        "import pandas as pd\n",
        "\n",
        "# Load the training labels CSV\n",
        "label_path = '/content/galaxy-data/unzipped/training_solutions_rev1/training_solutions_rev1.csv'\n",
        "df = pd.read_csv(label_path)\n",
        "\n",
        "# Find the class with the highest probability for each galaxy\n",
        "most_voted_class = df.drop('GalaxyID', axis=1).idxmax(axis=1)\n",
        "\n",
        "# Count how often each label is the top vote\n",
        "label_counts = most_voted_class.value_counts()\n",
        "\n",
        "# Show the result\n",
        "print(\"Label distribution (most common class per image):\")\n",
        "print(label_counts)\n",
        "\n",
        "# Plot it to see\n",
        "label_counts.plot(kind='bar', title='Most Common Galaxy Labels')\n"
      ],
      "metadata": {
        "colab": {
          "base_uri": "https://localhost:8080/",
          "height": 636
        },
        "id": "4ieVOe3tDOCH",
        "outputId": "e8ddb46c-31c9-4ac5-cd74-a189ac15410b"
      },
      "id": "4ieVOe3tDOCH",
      "execution_count": 28,
      "outputs": [
        {
          "output_type": "stream",
          "name": "stdout",
          "text": [
            "Label distribution (most common class per image):\n",
            "Class6.2    36706\n",
            "Class1.2    15940\n",
            "Class1.1     5449\n",
            "Class6.1     3470\n",
            "Class1.3       13\n",
            "Name: count, dtype: int64\n"
          ]
        },
        {
          "output_type": "execute_result",
          "data": {
            "text/plain": [
              "<Axes: title={'center': 'Most Common Galaxy Labels'}>"
            ]
          },
          "metadata": {},
          "execution_count": 28
        },
        {
          "output_type": "display_data",
          "data": {
            "text/plain": [
              "<Figure size 640x480 with 1 Axes>"
            ],
            "image/png": "[encoded data removed]"
          },
          "metadata": {}
        }
      ]
    },
    {
      "cell_type": "markdown",
      "source": [],
      "metadata": {
        "id": "sCUpmgFCDecj"
      },
      "id": "sCUpmgFCDecj"
    },
    {
      "cell_type": "markdown",
      "id": "526dd6ab",
      "metadata": {
        "id": "526dd6ab"
      },
      "source": [
        "## Understanding the Task"
      ]
    },
    {
      "cell_type": "markdown",
      "source": [
        "2. Understanding the Task\n",
        "\n",
        "a. What problem are you trying to solve with your neural network model?\n",
        "\n",
        " classification problem. The model takes a galaxy image and predicts a set of probabilities for different galaxy features.\n",
        "\n",
        "b. What is the significance of solving the problem?\n",
        "\n",
        " Automating this process saves time compared to manual labeling by volunteers and allows scientists to analyze millions of galaxies efficiently.\n",
        "\n",
        "c. What will be the evaluation metric for your neural network model?\n",
        "\n",
        "We will use root-mean-square error (RMSE) or mean squared error (MSE) between the predicted probabilities.\n",
        "\n",
        "d. What would constitute a good performance?\n",
        "\n",
        "A good performance would mean the predicted probability distribution is very close to the true distribution.  For example, a low RMSE (closer to 0) would be considered good.\n",
        "\n",
        "e. Is there a baseline method to compare against after meeting the performance?\n",
        "\n",
        "Yes."
      ],
      "metadata": {
        "id": "Ei3KnMJgAuPu"
      },
      "id": "Ei3KnMJgAuPu"
    },
    {
      "cell_type": "markdown",
      "id": "f275694a",
      "metadata": {
        "id": "f275694a"
      },
      "source": [
        "## Developing an initial plan for your project"
      ]
    },
    {
      "cell_type": "markdown",
      "source": [
        "3. Developing an initial plan for your project.\n",
        "\n",
        "a. What will be the inputs and outputs (including their dimensions) of your neural\n",
        "network model? • What data preparation methods do you plan to use?\n"
      ],
      "metadata": {
        "id": "5fZeGHJsDvsp"
      },
      "id": "5fZeGHJsDvsp"
    },
    {
      "cell_type": "markdown",
      "source": [
        "The input is a galaxy image.\n",
        "The output is a list of 37 numbers.\n",
        "Each number is a probability that the galaxy has a certain feature.\n",
        "Resize all images to the same size\n",
        "Scale the pixel values to be between 0 and 1"
      ],
      "metadata": {
        "id": "UoRqMjJ-D5pA"
      },
      "id": "UoRqMjJ-D5pA"
    },
    {
      "cell_type": "markdown",
      "source": [
        "b. What neural network model do you plan to use? (FCN, CNN, RNN, etc)\n",
        "\n",
        "CNN\n",
        "\n",
        "c. What loss function do you plan to use?\n",
        "\n",
        " Mean Squared Error (MSE) loss.\n",
        "\n",
        "d. How do you plan to evaluate your model?\n",
        "\n",
        "Root Mean Squared Error (RMSE)"
      ],
      "metadata": {
        "id": "ZrJGWQyHEMc1"
      },
      "id": "ZrJGWQyHEMc1"
    }
  ],
  "metadata": {
    "kernelspec": {
      "display_name": "Python 3 (ipykernel)",
      "language": "python",
      "name": "python3"
    },
    "language_info": {
      "codemirror_mode": {
        "name": "ipython",
        "version": 3
      },
      "file_extension": ".py",
      "mimetype": "text/x-python",
      "name": "python",
      "nbconvert_exporter": "python",
      "pygments_lexer": "ipython3",
      "version": "3.10.7"
    },
    "colab": {
      "provenance": [],
      "include_colab_link": true
    }
  },
  "nbformat": 4,
  "nbformat_minor": 5
}